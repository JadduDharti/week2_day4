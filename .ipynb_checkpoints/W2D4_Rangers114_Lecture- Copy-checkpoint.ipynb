{
 "cells": [
  {
   "cell_type": "markdown",
   "metadata": {},
   "source": [
    "# User-Defined Functions & Scoping"
   ]
  },
  {
   "cell_type": "markdown",
   "metadata": {},
   "source": [
    "## Tasks Today:\n",
    "\n",
    "\n",
    "1) Functions <br>\n",
    " &nbsp;&nbsp;&nbsp;&nbsp; a) User-Defined vs. Built-In Functions <br>\n",
    " &nbsp;&nbsp;&nbsp;&nbsp; b) Accepting Parameters <br>\n",
    " &nbsp;&nbsp;&nbsp;&nbsp; c) Default Parameters <br>\n",
    " &nbsp;&nbsp;&nbsp;&nbsp; d) Making an Argument Optional <br>\n",
    " &nbsp;&nbsp;&nbsp;&nbsp; e) Keyword Arguments <br>\n",
    " &nbsp;&nbsp;&nbsp;&nbsp; f) Returning Values <br>\n",
    " &nbsp;&nbsp;&nbsp;&nbsp; g) *args <br>\n",
    " &nbsp;&nbsp;&nbsp;&nbsp; h) Docstring <br>\n",
    " &nbsp;&nbsp;&nbsp;&nbsp; i) Using a User Function in a Loop <br>\n",
    "2) Scope\n",
    "3) Creating more User-Defined functions "
   ]
  },
  {
   "cell_type": "markdown",
   "metadata": {},
   "source": [
    "\n",
    "## Functions"
   ]
  },
  {
   "cell_type": "markdown",
   "metadata": {},
   "source": [
    "##### User-Defined vs. Built-In Functions"
   ]
  },
  {
   "cell_type": "code",
   "execution_count": 7,
   "metadata": {},
   "outputs": [
    {
     "name": "stdout",
     "output_type": "stream",
     "text": [
      "Hello\n",
      "hello!!!\n"
     ]
    },
    {
     "data": {
      "text/plain": [
       "'Hello'"
      ]
     },
     "execution_count": 7,
     "metadata": {},
     "output_type": "execute_result"
    }
   ],
   "source": [
    "#built-in-function\n",
    "print(\"Hello\")\n",
    "\n",
    "#user defin function\n",
    "def say_hello():\n",
    "    return \"Hello\"\n",
    "\n",
    "def say_hello2():\n",
    "    print(\"hello!!!\")\n",
    "    \n",
    "say_hello2()\n",
    "say_hello()\n",
    "\n",
    "#when calling a function you need to put parantheses at the end\n",
    "\n"
   ]
  },
  {
   "cell_type": "markdown",
   "metadata": {},
   "source": [
    "##### Accepting Parameters"
   ]
  },
  {
   "cell_type": "code",
   "execution_count": 15,
   "metadata": {},
   "outputs": [
    {
     "name": "stdout",
     "output_type": "stream",
     "text": [
      "The sky is very gloomy and its raining\n",
      "4\n"
     ]
    }
   ],
   "source": [
    "#argument that pass in the function\n",
    "#order matters\n",
    "#argument are of any data type\n",
    "\n",
    "def printSomething(something):\n",
    "    return something\n",
    "\n",
    "printSomething(\"the weather is rainy today\")\n",
    "\n",
    "def sentenct(noun, adjective, verb):\n",
    "    return f\"The {noun} is very {adjective} and its {verb}\"\n",
    "\n",
    "print(sentenct(\"sky\", \"gloomy\", \"raining\"))\n",
    "\n",
    "def substraction(a, b):\n",
    "    return a - b\n",
    "\n",
    "print(substraction(10, 6))\n"
   ]
  },
  {
   "cell_type": "markdown",
   "metadata": {},
   "source": [
    "##### Default Parameters"
   ]
  },
  {
   "cell_type": "code",
   "execution_count": 19,
   "metadata": {},
   "outputs": [
    {
     "name": "stdout",
     "output_type": "stream",
     "text": [
      "The name is Bond.... Jimmy Bond\n",
      "The name is Patel.... Dharti Patel\n"
     ]
    }
   ],
   "source": [
    "#default parameters are always after non-default parameters\n",
    "\n",
    "def agentName(firstname, lastname = \"Bond\"):\n",
    "    return f\"The name is {lastname}.... {firstname} {lastname}\"\n",
    "\n",
    "print(agentName(\"Jimmy\"))\n",
    "print(agentName(\"Dharti\", \"Patel\"))"
   ]
  },
  {
   "cell_type": "code",
   "execution_count": 22,
   "metadata": {},
   "outputs": [
    {
     "name": "stdout",
     "output_type": "stream",
     "text": [
      "Your Birthday is March 21 and you were born in 1994\n",
      "Your Birthday is May 1 and you were born in 1995\n"
     ]
    }
   ],
   "source": [
    "def birthdayMonth(day, year, month= \"March\"):\n",
    "    return f\"Your Birthday is {month} {day} and you were born in {year}\"\n",
    "\n",
    "print(birthdayMonth(21,1994))\n",
    "\n",
    "print(birthdayMonth(1,1995, \"May\"))\n",
    "\n"
   ]
  },
  {
   "cell_type": "code",
   "execution_count": 24,
   "metadata": {},
   "outputs": [
    {
     "name": "stdout",
     "output_type": "stream",
     "text": [
      "The name is Bond.... James Bond\n",
      "The name is Patvi.... Jigar Patvi\n",
      "The name is Patel.... Dharti Patel\n"
     ]
    }
   ],
   "source": [
    "def agentName(firstname= \"James\", lastname = \"Bond\"):\n",
    "    return f\"The name is {lastname}.... {firstname} {lastname}\"\n",
    "\n",
    "print(agentName())\n",
    "print(agentName(firstname= \"Jigar\", lastname=\"Patvi\"))\n",
    "print(agentName(\"Dharti\", \"Patel\"))"
   ]
  },
  {
   "cell_type": "markdown",
   "metadata": {},
   "source": [
    "##### Making an Argument Optional"
   ]
  },
  {
   "cell_type": "code",
   "execution_count": 27,
   "metadata": {},
   "outputs": [
    {
     "name": "stdout",
     "output_type": "stream",
     "text": [
      "Hello Mr. Ed\n",
      "Hello Mr. The Horse Ed.\n"
     ]
    }
   ],
   "source": [
    "def printHorseName(first, middle=\"\",last= \"Ed\"):\n",
    "    if middle == \"\":\n",
    "        return f\"Hello {first} {last}\"\n",
    "    return f\"Hello {first} {middle} {last}.\"\n",
    "\n",
    "print(printHorseName(\"Mr.\"))\n",
    "print(printHorseName(\"Mr.\",\"The Horse\"))\n"
   ]
  },
  {
   "cell_type": "markdown",
   "metadata": {},
   "source": [
    "##### Keyword Arguments"
   ]
  },
  {
   "cell_type": "code",
   "execution_count": 30,
   "metadata": {},
   "outputs": [
    {
     "name": "stdout",
     "output_type": "stream",
     "text": [
      "Batman's power is Money and their secret is Bruce Wayne\n"
     ]
    }
   ],
   "source": [
    "#Keyword argument must follow postitional argument\n",
    "\n",
    "def printHero(name, secret, power= \"flying\"):\n",
    "    return f\"{name}'s power is {power} and their secret is {secret}\"\n",
    "\n",
    "print(printHero(secret= \"Bruce Wayne\",power= \"Money\", name=\"Batman\"))\n"
   ]
  },
  {
   "cell_type": "code",
   "execution_count": 34,
   "metadata": {},
   "outputs": [
    {
     "name": "stdout",
     "output_type": "stream",
     "text": [
      "The nice color is Red, Blue and yellow\n",
      "The nice color is yellow, Blue and Red\n"
     ]
    }
   ],
   "source": [
    "yellow = \"yellow\"\n",
    "\n",
    "def colors(col1, col2, col3):\n",
    "    return f\"The nice color is {col1}, {col2} and {col3}\"\n",
    "\n",
    "print(colors(col2= \"Blue\", col3 = yellow, col1 = \"Red\"))\n",
    "print(colors(yellow, col2= \"Blue\", col3 = \"Red\"))"
   ]
  },
  {
   "cell_type": "markdown",
   "metadata": {},
   "source": [
    "# Creating a start, stop, step function"
   ]
  },
  {
   "cell_type": "code",
   "execution_count": 37,
   "metadata": {
    "scrolled": true
   },
   "outputs": [
    {
     "name": "stdout",
     "output_type": "stream",
     "text": [
      "1\n",
      "3\n",
      "5\n",
      "7\n",
      "9\n",
      "11\n",
      "13\n",
      "15\n",
      "17\n",
      "19\n",
      "Hey Grate job, you'er beautiful\n"
     ]
    }
   ],
   "source": [
    "def myRange(stop, start = 0, step =1):\n",
    "    for i in range(start, stop, step):\n",
    "        print(i)\n",
    "    return \"Hey Grate job, you'er beautiful\"\n",
    "print(myRange(20, 1, 2))"
   ]
  },
  {
   "cell_type": "code",
   "execution_count": 42,
   "metadata": {},
   "outputs": [
    {
     "name": "stdout",
     "output_type": "stream",
     "text": [
      "[4, 16, 25, 9]\n"
     ]
    }
   ],
   "source": [
    "def squareNumber(arr):\n",
    "    square_list = []\n",
    "    for num in arr:\n",
    "        square_list.append(num**2)\n",
    "    return square_list\n",
    "\n",
    "print(squareNumber([2, 4, 5, 3]))"
   ]
  },
  {
   "cell_type": "markdown",
   "metadata": {},
   "source": [
    "##### Returning Values"
   ]
  },
  {
   "cell_type": "code",
   "execution_count": 46,
   "metadata": {},
   "outputs": [
    {
     "data": {
      "text/plain": [
       "'Bulba Bulba'"
      ]
     },
     "execution_count": 46,
     "metadata": {},
     "output_type": "execute_result"
    }
   ],
   "source": [
    "poke_list = [\"Charmander\", \"Squirtle\", \"Cyndaquil\", \"Chikorita\", \"Totodile\", \"Bulbasaur\"]\n",
    "\n",
    "def findBulbasaur(arr):\n",
    "    for poke in arr:\n",
    "        if poke == \"Bulbasaur\":\n",
    "            return \"Bulba Bulba\"\n",
    "    return \"No Bulbasaur\"\n",
    "\n",
    "findBulbasaur(poke_list)"
   ]
  },
  {
   "cell_type": "code",
   "execution_count": 50,
   "metadata": {},
   "outputs": [
    {
     "name": "stdout",
     "output_type": "stream",
     "text": [
      "Bulba Bulba\n"
     ]
    },
    {
     "data": {
      "text/plain": [
       "'You caught a Bulbasaur!'"
      ]
     },
     "execution_count": 50,
     "metadata": {},
     "output_type": "execute_result"
    }
   ],
   "source": [
    "def isBulbasaur(string):\n",
    "    if string == \"Bulba Bulba\":\n",
    "        return \"You caught a Bulbasaur!\"\n",
    "    return \"Oh! The Bulbasaur appered to be caught... and it ran away\"\n",
    "\n",
    "caught = findBulbasaur(poke_list)\n",
    "print(caught)\n",
    "\n",
    "isBulbasaur(caught)"
   ]
  },
  {
   "cell_type": "code",
   "execution_count": 51,
   "metadata": {},
   "outputs": [
    {
     "data": {
      "text/plain": [
       "'You caught a Bulbasaur!'"
      ]
     },
     "execution_count": 51,
     "metadata": {},
     "output_type": "execute_result"
    }
   ],
   "source": [
    "def isBulbasaur(arr):\n",
    "    if findBulbasaur(poke_list) == \"Bulba Bulba\":\n",
    "        return \"You caught a Bulbasaur!\"\n",
    "    return \"Oh! The Bulbasaur appered to be caught... and it ran away\"\n",
    "\n",
    "# caught = findBulbasaur(poke_list)\n",
    "# print(caught)\n",
    "\n",
    "isBulbasaur(poke_list)"
   ]
  },
  {
   "cell_type": "markdown",
   "metadata": {},
   "source": [
    "##### *args / **kwargs (keyword arguments)"
   ]
  },
  {
   "cell_type": "code",
   "execution_count": 59,
   "metadata": {},
   "outputs": [
    {
     "name": "stdout",
     "output_type": "stream",
     "text": [
      "\n",
      "\n",
      "This is my postional argument:  2\n",
      "This are my arguments:  ('Chewbacca', 'What else is on my deak')\n",
      "This are my keywords argument:  {}\n",
      "\n",
      "\n",
      "This is my postional argument:  2\n",
      "This are my arguments:  ('Cheetor', 'Chewbacca', 'What else is on my deak', 12, 54)\n",
      "This are my keywords argument:  {'names': ['Jeong', 'Mike', 'Tenzin'], 'language': 'python'}\n"
     ]
    }
   ],
   "source": [
    "#*args, **kwargs\n",
    "#*args stands for arguments (**kwargs is for keyword arguments) & takes any number of arguments as parameters\n",
    "#if other parameteres are present, *args must go last\n",
    "#if other paramater are present, args and kwargs must go last\n",
    "\n",
    "def printArgs(num1, num2, name, *args, **kwargs):\n",
    "    print(\"This is my postional argument: \",num1)\n",
    "    print(\"This are my arguments: \", args)\n",
    "    print(\"This are my keywords argument: \", kwargs)\n",
    "    \n",
    "#printArgs(2)\n",
    "print(\"\\n\")\n",
    "printArgs(2, \"Mega Man\",\"Cheetor\", \"Chewbacca\",\"What else is on my deak\")\n",
    "print(\"\\n\")\n",
    "printArgs(2, 3, \"Mega Man\",\"Cheetor\", \"Chewbacca\",\"What else is on my deak\", 12, 54, names=['Jeong', 'Mike', 'Tenzin'], language = 'python')\n",
    "        "
   ]
  },
  {
   "cell_type": "code",
   "execution_count": 66,
   "metadata": {},
   "outputs": [
    {
     "name": "stdout",
     "output_type": "stream",
     "text": [
      "Dharti\n",
      "Ewa\n",
      "Desiree\n",
      "Ben\n",
      "Enoch\n",
      "Swan\n",
      "Aristo\n",
      "Hyun-Tae\n",
      "Lyle\n",
      "Abdel\n",
      "\n",
      "\n",
      "Chicago\n",
      "Queens\n",
      "Los Angeles\n",
      "Plano\n",
      "Las Vegas\n",
      "Portland\n",
      "Pittsburgh\n",
      "Seattle\n",
      "Fairfax\n"
     ]
    }
   ],
   "source": [
    "def printMoreArgs(*names, **location):\n",
    "    for name in names:\n",
    "        print(name)\n",
    "    print(\"\\n\")\n",
    "    place = location['cities']\n",
    "    for city in place:\n",
    "        print(city)\n",
    "        \n",
    "printMoreArgs(\"Dharti\", \"Ewa\", \"Desiree\", \"Ben\", \"Enoch\", \"Swan\", \"Aristo\", \"Hyun-Tae\", \"Lyle\", \"Abdel\",\n",
    "               cities=['Chicago', \"Queens\", \"Los Angeles\", \"Plano\", \"Las Vegas\", \"Portland\", \"Pittsburgh\", \"Seattle\", \"Fairfax\"])"
   ]
  },
  {
   "cell_type": "markdown",
   "metadata": {},
   "source": [
    "##### Docstring"
   ]
  },
  {
   "cell_type": "code",
   "execution_count": 67,
   "metadata": {},
   "outputs": [
    {
     "name": "stdout",
     "output_type": "stream",
     "text": [
      "Dharti\n",
      "Jigar\n",
      "Vrund\n",
      "Krishna\n",
      "Help on function printName in module __main__:\n",
      "\n",
      "printName(arr)\n",
      "    printName(arr) requires a list to be pass as an argument\n",
      "    and will print the contents of the list. Expecting a list of name\n",
      "    as strings to be passed in.\n",
      "\n"
     ]
    }
   ],
   "source": [
    "# really nice for leaving notes about functionaly in your code\n",
    "# providing instructions\n",
    "\n",
    "def printName(arr):\n",
    "    \"\"\"\n",
    "    printName(arr) requires a list to be pass as an argument\n",
    "    and will print the contents of the list. Expecting a list of name\n",
    "    as strings to be passed in. \n",
    "    \n",
    "    \"\"\"\n",
    "    \n",
    "    for name in arr:\n",
    "        print(name)\n",
    "    \n",
    "printName([\"Dharti\", \"Jigar\", \"Vrund\", \"Krishna\"])\n",
    "\n",
    "help(printName)"
   ]
  },
  {
   "cell_type": "markdown",
   "metadata": {},
   "source": [
    "##### Using a User Function in a Loop"
   ]
  },
  {
   "cell_type": "code",
   "execution_count": 1,
   "metadata": {},
   "outputs": [
    {
     "name": "stdout",
     "output_type": "stream",
     "text": [
      "What's going on?Amazing\n",
      "I say heyayayayayayyayayayyayaya Amazing\n",
      "Are you ready yo quit? no\n",
      "What's going on?Nothing just chilll\n",
      "I say heyayayayayayyayayayyayaya Nothing just chilll\n",
      "Are you ready yo quit? yes\n"
     ]
    }
   ],
   "source": [
    "def printInput(answer):\n",
    "    print(f\"I say heyayayayayayyayayayyayaya {answer}\")\n",
    "    \n",
    "while True:\n",
    "    ask = input(\"What's going on?\")\n",
    "    \n",
    "    printInput(ask)\n",
    "    response = input(\"Are you ready yo quit? \")\n",
    "    if response.lower() == \"yes\":\n",
    "        break\n",
    "        \n",
    "        \n"
   ]
  },
  {
   "cell_type": "markdown",
   "metadata": {},
   "source": [
    "## Function Exercises <br>\n",
    "### Exercise 1\n",
    "<p>Write a function that loops through a list of first_names and a list of last_names, combines the two and return a list of full_names</p>"
   ]
  },
  {
   "cell_type": "code",
   "execution_count": 2,
   "metadata": {},
   "outputs": [
    {
     "name": "stdout",
     "output_type": "stream",
     "text": [
      "['John Smith', 'Evan Smith', 'Jordan Williams', 'Max Bell']\n"
     ]
    }
   ],
   "source": [
    "first_name = ['John', 'Evan', 'Jordan', 'Max']\n",
    "last_name = ['Smith', 'Smith', 'Williams', 'Bell']\n",
    "\n",
    "# Output: ['John Smith', 'Evan Smith', 'Jordan Williams', 'Max Bell']\n",
    "\n",
    "def fullName(firstname,lastname):\n",
    "    return [firstname[i] + \" \"+ lastname[i] for i in range(len(firstname))]\n",
    "\n",
    "print(fullName(first_name,last_name))"
   ]
  },
  {
   "cell_type": "code",
   "execution_count": null,
   "metadata": {},
   "outputs": [],
   "source": []
  },
  {
   "cell_type": "markdown",
   "metadata": {},
   "source": [
    "### Exercise 2\n",
    "Create a function that alters all values in the given list by subtracting 5 and then doubling them."
   ]
  },
  {
   "cell_type": "code",
   "execution_count": 4,
   "metadata": {},
   "outputs": [
    {
     "name": "stdout",
     "output_type": "stream",
     "text": [
      "[0, 10, 20, 30, -4]\n",
      "[0, 10, 20, 30, -4]\n"
     ]
    }
   ],
   "source": [
    "input_list = [5,10,15,20,3]\n",
    "# output = [0,10,20,30,-4]\n",
    "\n",
    "\n",
    "def doubling(array):\n",
    "    list1 = []\n",
    "    for i in array:\n",
    "        list1.append((i-5) * 2)\n",
    "    return list1\n",
    "\n",
    "print(doubling(input_list))\n",
    "\n",
    "\n",
    "def problem(list1):\n",
    "    return [(i-5)*2 for i in list1]\n",
    "\n",
    "print(problem(input_list))"
   ]
  },
  {
   "cell_type": "markdown",
   "metadata": {},
   "source": [
    "### Exercise 3\n",
    "Create a function that takes in a list of strings and filters out the strings that DO NOT contain vowels. "
   ]
  },
  {
   "cell_type": "code",
   "execution_count": 11,
   "metadata": {},
   "outputs": [
    {
     "name": "stdout",
     "output_type": "stream",
     "text": [
      "['Sheldon', 'Leonard', 'Amy']\n"
     ]
    }
   ],
   "source": [
    "string_list = ['Sheldon','Pnny','Leonard','Hwrd','Rj','Amy','Strt']\n",
    "# output = ['Sheldon','Leonard','Amy']\n",
    "\n",
    "def vowel(list1):\n",
    "    new_l = []\n",
    "    vowels = ['a', 'e', 'i', 'o', 'u']\n",
    "    for name in list1:\n",
    "        for letter in name:\n",
    "            if letter.lower() in vowels:\n",
    "                new_l.append(name)\n",
    "                break\n",
    "                \n",
    "    return new_l\n",
    "\n",
    "print(vowel(string_list))"
   ]
  },
  {
   "cell_type": "markdown",
   "metadata": {},
   "source": [
    "### Exercise 4\n",
    "Create a function that accepts a list as a parameter and returns a dictionary containing the list items as it's keys, and the number of times they appear in the list as the values"
   ]
  },
  {
   "cell_type": "code",
   "execution_count": 14,
   "metadata": {},
   "outputs": [
    {
     "name": "stdout",
     "output_type": "stream",
     "text": [
      "Harry : 3\n",
      "Hermione : 2\n",
      "Ron : 4\n",
      "Dobby : 1\n",
      "Draco : 1\n",
      "Luna : 1\n"
     ]
    }
   ],
   "source": [
    "example_list = [\"Harry\", 'Hermione','Harry','Ron','Dobby','Draco','Luna','Harry','Hermione','Ron','Ron','Ron']\n",
    "\n",
    "# output = {\n",
    "#     \"Harry\":3,\n",
    "#     \"Hermione\":2,\n",
    "#     \"Ron\":4,\n",
    "#     \"Dobby\":1,\n",
    "#     \"Draco\":1,\n",
    "#     \"Luna\": 1\n",
    "# }\n",
    "\n",
    "def countList(arr):\n",
    "    d = {}\n",
    "    for i in arr:\n",
    "        if i not in d:\n",
    "            d[i] = 1\n",
    "        else:\n",
    "            d[i] += 1\n",
    "    return d\n",
    "\n",
    "for key, value in countList(example_list).items():\n",
    "    print(key, \":\", value)\n"
   ]
  },
  {
   "cell_type": "code",
   "execution_count": 18,
   "metadata": {},
   "outputs": [
    {
     "name": "stdout",
     "output_type": "stream",
     "text": [
      "3\n",
      "6\n"
     ]
    }
   ],
   "source": []
  },
  {
   "cell_type": "markdown",
   "metadata": {},
   "source": [
    "\n",
    "\n",
    "## Scope <br>\n",
    "<p>Scope refers to the ability to access variables, different types of scope include:<br>a) Global<br>b) Function (local)<br>c) Class (local)</p>"
   ]
  },
  {
   "cell_type": "code",
   "execution_count": 19,
   "metadata": {},
   "outputs": [
    {
     "name": "stdout",
     "output_type": "stream",
     "text": [
      "3\n",
      "6\n"
     ]
    }
   ],
   "source": [
    "number = 3  #global variable\n",
    "\n",
    "def returnNumber(num):\n",
    "    num1 = 6  #locally scooped function variable\n",
    "    return num1\n",
    "\n",
    "print(number)\n",
    "\n",
    "print(returnNumber(4))"
   ]
  },
  {
   "cell_type": "code",
   "execution_count": 24,
   "metadata": {},
   "outputs": [
    {
     "name": "stdout",
     "output_type": "stream",
     "text": [
      "5\n",
      "5\n"
     ]
    },
    {
     "ename": "NameError",
     "evalue": "name 'n1' is not defined",
     "output_type": "error",
     "traceback": [
      "\u001b[1;31m---------------------------------------------------------------------------\u001b[0m",
      "\u001b[1;31mNameError\u001b[0m                                 Traceback (most recent call last)",
      "Cell \u001b[1;32mIn[24], line 14\u001b[0m\n\u001b[0;32m     11\u001b[0m \u001b[38;5;28mprint\u001b[39m(addNums(\u001b[38;5;241m3\u001b[39m, \u001b[38;5;241m2\u001b[39m))\n\u001b[0;32m     12\u001b[0m \u001b[38;5;28mprint\u001b[39m(subNums(\u001b[38;5;241m10\u001b[39m, \u001b[38;5;241m5\u001b[39m))\n\u001b[1;32m---> 14\u001b[0m \u001b[38;5;28mprint\u001b[39m(\u001b[43mn1\u001b[49m)\n\u001b[0;32m     15\u001b[0m \u001b[38;5;28mprint\u001b[39m(n2)\n",
      "\u001b[1;31mNameError\u001b[0m: name 'n1' is not defined"
     ]
    }
   ],
   "source": [
    "def addNums(a, b):\n",
    "    n1 = a\n",
    "    n2 = b\n",
    "    return n1 + n2\n",
    "\n",
    "def subNums(a, b):\n",
    "    n1 = a\n",
    "    n2 = b\n",
    "    return n1 - n2\n",
    "\n",
    "print(addNums(3, 2))\n",
    "print(subNums(10, 5))\n",
    "\n",
    "print(n1)\n",
    "print(n2)"
   ]
  },
  {
   "cell_type": "markdown",
   "metadata": {},
   "source": [
    "## Modules"
   ]
  },
  {
   "cell_type": "markdown",
   "metadata": {},
   "source": [
    "##### Importing Entire Modules\n"
   ]
  },
  {
   "cell_type": "code",
   "execution_count": 31,
   "metadata": {},
   "outputs": [
    {
     "name": "stdout",
     "output_type": "stream",
     "text": [
      "3.141592653589793\n",
      "2\n",
      "3\n",
      "4\n"
     ]
    }
   ],
   "source": [
    "import math\n",
    "print(math.pi)\n",
    "\n",
    "num1 = 5\n",
    "num2 = 2\n",
    "\n",
    "num = num1 // num2\n",
    "print(num)\n",
    "\n",
    "print(math.ceil(5 / 2))\n",
    "print(math.ceil(math.pi))"
   ]
  },
  {
   "cell_type": "markdown",
   "metadata": {},
   "source": [
    "##### Importing Methods Only"
   ]
  },
  {
   "cell_type": "code",
   "execution_count": 32,
   "metadata": {},
   "outputs": [
    {
     "name": "stdout",
     "output_type": "stream",
     "text": [
      "3.141592653589793\n",
      "4\n",
      "3\n"
     ]
    }
   ],
   "source": [
    "#from XXX import YYY\n",
    "\n",
    "from math import floor, pi, ceil\n",
    "\n",
    "print(pi)\n",
    "print(ceil(pi))\n",
    "print(floor(pi))"
   ]
  },
  {
   "cell_type": "markdown",
   "metadata": {},
   "source": [
    "##### Using the 'as' Keyword"
   ]
  },
  {
   "cell_type": "code",
   "execution_count": 33,
   "metadata": {},
   "outputs": [
    {
     "name": "stdout",
     "output_type": "stream",
     "text": [
      "3\n"
     ]
    }
   ],
   "source": [
    "#from xxx import yyy as z\n",
    "\n",
    "from math import floor as f, pi as p\n",
    "\n",
    "print(f(p))\n"
   ]
  },
  {
   "cell_type": "markdown",
   "metadata": {},
   "source": [
    "##### Creating a Module"
   ]
  },
  {
   "cell_type": "code",
   "execution_count": 40,
   "metadata": {},
   "outputs": [
    {
     "name": "stdout",
     "output_type": "stream",
     "text": [
      "Hello Mr/Ms Ryan...we've been waiting for you!\n",
      "None\n"
     ]
    }
   ],
   "source": [
    "from module import printName as pn\n",
    "\n",
    "print(pn(\"Ryan\"))\n"
   ]
  },
  {
   "cell_type": "code",
   "execution_count": null,
   "metadata": {},
   "outputs": [],
   "source": []
  },
  {
   "cell_type": "code",
   "execution_count": null,
   "metadata": {},
   "outputs": [],
   "source": []
  },
  {
   "cell_type": "markdown",
   "metadata": {},
   "source": [
    "# Homework Exercises"
   ]
  },
  {
   "cell_type": "markdown",
   "metadata": {},
   "source": [
    "### 1) Create a Module in VS Code and Import It into jupyter notebook <br>\n",
    "<p><b>Module should have the following capabilities:</b><br><br>\n",
    "1a) Has a function to calculate the square footage of a house <br>\n",
    "    <b>Reminder of Formula: Length X Width == Area</b><br>\n",
    "        <hr>\n",
    "1b) Has a function to calculate the circumference of a circle 2 pi R<br><br>\n",
    "<b>Program in Jupyter Notebook should take in user input and use imported functions to calculate a circle's circumference or a houses square footage</b>\n",
    "</p>"
   ]
  },
  {
   "cell_type": "code",
   "execution_count": null,
   "metadata": {},
   "outputs": [
    {
     "name": "stdout",
     "output_type": "stream",
     "text": [
      " Circumference Of a Circle  12.566370614359172\n",
      "1. Square foot of house\n",
      "2. Circumference of circle\n",
      "3. quit\n"
     ]
    }
   ],
   "source": [
    "from square_module import squareFoot as sf, calculate_Cir as ccir\n",
    "from IPython.display import clear_output as co\n",
    "def main_fun():\n",
    "    \n",
    "    done = False\n",
    "    \n",
    "    while not done:\n",
    "        print(\"1. Square foot of house\")\n",
    "        print(\"2. Circumference of circle\")\n",
    "        print(\"3. quit\")\n",
    "        choice = int(input(\"Enter your choice (1, 2, 3): \"))\n",
    "        \n",
    "        if choice == 1:\n",
    "            length = int(input(\"Enter length of house(must be integer): \"))\n",
    "            width = int(input(\"Enter width of house(must be integer): \"))\n",
    "            print(sf(length, width))\n",
    "        elif choice == 2:\n",
    "            radius = float(input(\"Enter radius of circle (Must be integer or float): \"))\n",
    "            circu = ccir(radius)\n",
    "            print(\" Circumference Of a Circle \", circu)\n",
    "        elif choice == 3:\n",
    "            done = True\n",
    "            print(\"Thank you for count\")\n",
    "        else:\n",
    "            co()\n",
    "            print(\"Please insert valid input\")\n",
    "        \n",
    "\n",
    "        \n",
    "print(main_fun())\n"
   ]
  },
  {
   "cell_type": "markdown",
   "metadata": {},
   "source": [
    "## Exercise 2 <br>\n",
    "<p>Create a function which given an array of integers, return an array, where the first element is the count of\n",
    "positives numbers and the second element is sum of negative numbers. 0 is neither positive nor negative.\n",
    "If the input array is empty or null, return an empty array.</p><br>\n"
   ]
  },
  {
   "cell_type": "code",
   "execution_count": 44,
   "metadata": {},
   "outputs": [
    {
     "name": "stdout",
     "output_type": "stream",
     "text": [
      "The list is empty\n"
     ]
    }
   ],
   "source": [
    "arr = [2, -4, 5, 3, 12, -104, -56, 27, 0]\n",
    "arr2 = []\n",
    "def positive_negative(arr):\n",
    "    count = 0\n",
    "    neg = 0\n",
    "    new_list = []\n",
    "    if len(arr)<= 0:\n",
    "        return \"The list is empty\"\n",
    "    else:\n",
    "        for num in arr:\n",
    "            if num > 0:\n",
    "                count += 1\n",
    "            else:\n",
    "                neg = neg + num\n",
    "    new_list.append(count)\n",
    "    new_list.append(neg)\n",
    "    return new_list\n",
    "\n",
    "print(positive_negative(arr))\n",
    "print(positive_negative(arr2))\n",
    "            "
   ]
  },
  {
   "cell_type": "markdown",
   "metadata": {},
   "source": [
    "## Exercise 3 <br>\n",
    "<p>Create a function that returns the sum of the two lowest positive numbers given\n",
    "an array of minimum 4 positive integers. No floats or non-positive integers will be passed.</p>"
   ]
  },
  {
   "cell_type": "code",
   "execution_count": 46,
   "metadata": {},
   "outputs": [
    {
     "name": "stdout",
     "output_type": "stream",
     "text": [
      "8\n"
     ]
    }
   ],
   "source": [
    "pos_arr = [6, 20, 48, 96, 109, 10034, 2]\n",
    "\n",
    "def sumTwoPos(arr):\n",
    "    \n",
    "    arr.sort(reverse = True)\n",
    "    a = arr.pop()\n",
    "    b = arr.pop()\n",
    "    return a+b\n",
    "            \n",
    "print(sumTwoPos(pos_arr))"
   ]
  },
  {
   "cell_type": "markdown",
   "metadata": {},
   "source": [
    "## Exercise 4 <br>\n",
    "<p>Write a function that when given a list of items will return the \n",
    "item that appears the most times in the list. \n",
    "If two or more items appear the same amount of times, output all those items in a list.\n",
    "\n",
    "Example Input = ['Orange', 'Apple', 'Bear', 3, 7, 'Tree', 'Orange', 'Tree']\n",
    "Example Out = ['Orange', 'Tree']\n",
    "\n",
    "#Hint (a counter dictionary might be helpful)</p>"
   ]
  },
  {
   "cell_type": "code",
   "execution_count": 52,
   "metadata": {},
   "outputs": [
    {
     "name": "stdout",
     "output_type": "stream",
     "text": [
      "['Orange', 'Tree']\n"
     ]
    }
   ],
   "source": [
    "from collections import Counter\n",
    "\n",
    "arr =  ['Orange', 'Apple', 'Bear', 3, 7, 'Tree', 'Orange', 'Tree'] \n",
    "\n",
    "def countList(arr):\n",
    "    final_list = []\n",
    "    arr_count = Counter(arr)\n",
    "    for key, value in arr_count.items():\n",
    "        if value > 1:\n",
    "            final_list.append(key)\n",
    "    return final_list\n",
    "\n",
    "print(countList(arr))\n",
    "\n"
   ]
  }
 ],
 "metadata": {
  "kernelspec": {
   "display_name": "Python 3 (ipykernel)",
   "language": "python",
   "name": "python3"
  },
  "language_info": {
   "codemirror_mode": {
    "name": "ipython",
    "version": 3
   },
   "file_extension": ".py",
   "mimetype": "text/x-python",
   "name": "python",
   "nbconvert_exporter": "python",
   "pygments_lexer": "ipython3",
   "version": "3.9.7"
  }
 },
 "nbformat": 4,
 "nbformat_minor": 2
}
